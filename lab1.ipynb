{
 "cells": [
  {
   "cell_type": "code",
   "execution_count": 16,
   "metadata": {},
   "outputs": [
    {
     "name": "stdout",
     "output_type": "stream",
     "text": [
      "Requirement already satisfied: pip in c:\\users\\moham\\anaconda3\\lib\\site-packages (24.2)\n",
      "Collecting pip\n",
      "  Using cached pip-25.0.1-py3-none-any.whl.metadata (3.7 kB)\n",
      "Using cached pip-25.0.1-py3-none-any.whl (1.8 MB)\n"
     ]
    },
    {
     "name": "stderr",
     "output_type": "stream",
     "text": [
      "ERROR: To modify pip, please run the following command:\n",
      "C:\\Users\\moham\\anaconda3\\python.exe -m pip install --upgrade pip\n"
     ]
    },
    {
     "name": "stdout",
     "output_type": "stream",
     "text": [
      "Requirement already satisfied: opencv-python in c:\\users\\moham\\anaconda3\\lib\\site-packages (4.11.0.86)\n",
      "Requirement already satisfied: numpy>=1.21.2 in c:\\users\\moham\\anaconda3\\lib\\site-packages (from opencv-python) (1.26.4)\n",
      "Requirement already satisfied: scikit-image in c:\\users\\moham\\anaconda3\\lib\\site-packages (0.24.0)\n",
      "Requirement already satisfied: numpy>=1.23 in c:\\users\\moham\\anaconda3\\lib\\site-packages (from scikit-image) (1.26.4)\n",
      "Requirement already satisfied: scipy>=1.9 in c:\\users\\moham\\anaconda3\\lib\\site-packages (from scikit-image) (1.13.1)\n",
      "Requirement already satisfied: networkx>=2.8 in c:\\users\\moham\\anaconda3\\lib\\site-packages (from scikit-image) (3.3)\n",
      "Requirement already satisfied: pillow>=9.1 in c:\\users\\moham\\anaconda3\\lib\\site-packages (from scikit-image) (10.4.0)\n",
      "Requirement already satisfied: imageio>=2.33 in c:\\users\\moham\\anaconda3\\lib\\site-packages (from scikit-image) (2.33.1)\n",
      "Requirement already satisfied: tifffile>=2022.8.12 in c:\\users\\moham\\anaconda3\\lib\\site-packages (from scikit-image) (2023.4.12)\n",
      "Requirement already satisfied: packaging>=21 in c:\\users\\moham\\anaconda3\\lib\\site-packages (from scikit-image) (24.1)\n",
      "Requirement already satisfied: lazy-loader>=0.4 in c:\\users\\moham\\anaconda3\\lib\\site-packages (from scikit-image) (0.4)\n"
     ]
    }
   ],
   "source": [
    "!pip install --upgrade pip\n",
    "!pip install opencv-python\n",
    "!pip install scikit-image\n"
   ]
  },
  {
   "cell_type": "code",
   "execution_count": 27,
   "metadata": {},
   "outputs": [
    {
     "ename": "NotADirectoryError",
     "evalue": "[WinError 267] The directory name is invalid: 'C:\\\\Users\\\\moham\\\\Downloads\\\\Compressed\\\\MangoLeafBD Dataset.zip'",
     "output_type": "error",
     "traceback": [
      "\u001b[1;31m---------------------------------------------------------------------------\u001b[0m",
      "\u001b[1;31mNotADirectoryError\u001b[0m                        Traceback (most recent call last)",
      "Cell \u001b[1;32mIn[27], line 15\u001b[0m\n\u001b[0;32m     13\u001b[0m \u001b[38;5;66;03m# Load dataset\u001b[39;00m\n\u001b[0;32m     14\u001b[0m DATASET_PATH \u001b[38;5;241m=\u001b[39m \u001b[38;5;124m\"\u001b[39m\u001b[38;5;124mC:\u001b[39m\u001b[38;5;130;01m\\\\\u001b[39;00m\u001b[38;5;124mUsers\u001b[39m\u001b[38;5;130;01m\\\\\u001b[39;00m\u001b[38;5;124mmoham\u001b[39m\u001b[38;5;130;01m\\\\\u001b[39;00m\u001b[38;5;124mDownloads\u001b[39m\u001b[38;5;130;01m\\\\\u001b[39;00m\u001b[38;5;124mCompressed\u001b[39m\u001b[38;5;130;01m\\\\\u001b[39;00m\u001b[38;5;124mMangoLeafBD Dataset.zip\u001b[39m\u001b[38;5;124m\"\u001b[39m  \u001b[38;5;66;03m# Change this to your dataset path\u001b[39;00m\n\u001b[1;32m---> 15\u001b[0m classes \u001b[38;5;241m=\u001b[39m os\u001b[38;5;241m.\u001b[39mlistdir(DATASET_PATH)\n\u001b[0;32m     16\u001b[0m \u001b[38;5;28mprint\u001b[39m(\u001b[38;5;124m\"\u001b[39m\u001b[38;5;124mClasses:\u001b[39m\u001b[38;5;124m\"\u001b[39m, classes)\n",
      "\u001b[1;31mNotADirectoryError\u001b[0m: [WinError 267] The directory name is invalid: 'C:\\\\Users\\\\moham\\\\Downloads\\\\Compressed\\\\MangoLeafBD Dataset.zip'"
     ]
    }
   ],
   "source": [
    "import numpy as np\n",
    "import pandas as pd\n",
    "import os\n",
    "import cv2\n",
    "import matplotlib.pyplot as plt\n",
    "from sklearn.model_selection import train_test_split\n",
    "from sklearn.preprocessing import LabelEncoder\n",
    "from sklearn.ensemble import RandomForestClassifier  # CPU-based RF\n",
    "from sklearn.tree import DecisionTreeClassifier  # CPU-based DT\n",
    "from sklearn.metrics import accuracy_score, classification_report, confusion_matrix\n",
    "from skimage.feature import hog\n",
    "\n",
    "# Load dataset\n",
    "DATASET_PATH = \"C:\\\\Users\\\\moham\\\\Downloads\\\\Compressed\\\\MangoLeafBD Dataset.zip\"  # Change this to your dataset path\n",
    "classes = os.listdir(DATASET_PATH)\n",
    "print(\"Classes:\", classes)"
   ]
  },
  {
   "cell_type": "code",
   "execution_count": 18,
   "metadata": {},
   "outputs": [],
   "source": [
    "# Data preprocessing & Feature Extraction (HOG)\n",
    "def load_data(dataset_path, img_size=(128, 128)):\n",
    "    images = []\n",
    "    labels = []\n",
    "    \n",
    "    for class_name in os.listdir(dataset_path):\n",
    "        class_path = os.path.join(dataset_path, class_name)\n",
    "        if os.path.isdir(class_path):\n",
    "            for img_name in os.listdir(class_path):\n",
    "                img_path = os.path.join(class_path, img_name)\n",
    "                img = cv2.imread(img_path)\n",
    "                img = cv2.resize(img, img_size)\n",
    "                img = cv2.cvtColor(img, cv2.COLOR_BGR2GRAY)  # Convert to grayscale\n",
    "                \n",
    "                # Extract HOG features\n",
    "                hog_features = hog(img, pixels_per_cell=(16, 16), cells_per_block=(2, 2), feature_vector=True)\n",
    "                images.append(hog_features)\n",
    "                labels.append(class_name)\n",
    "    \n",
    "    return np.array(images), np.array(labels)  "
   ]
  },
  {
   "cell_type": "code",
   "execution_count": 19,
   "metadata": {},
   "outputs": [
    {
     "name": "stdout",
     "output_type": "stream",
     "text": [
      "Data Loaded Successfully!\n"
     ]
    }
   ],
   "source": [
    "# Load and preprocess the data\n",
    "X, y = load_data(DATASET_PATH)\n",
    "print(\"Data Loaded Successfully!\")"
   ]
  },
  {
   "cell_type": "code",
   "execution_count": 20,
   "metadata": {},
   "outputs": [],
   "source": [
    "# Encode class labels\n",
    "label_encoder = LabelEncoder()\n",
    "y = label_encoder.fit_transform(y)"
   ]
  },
  {
   "cell_type": "code",
   "execution_count": 21,
   "metadata": {},
   "outputs": [],
   "source": [
    "# Split into training and test sets\n",
    "X_train, X_test, y_train, y_test = train_test_split(X, y, test_size=0.2, random_state=42)"
   ]
  },
  {
   "cell_type": "code",
   "execution_count": 22,
   "metadata": {},
   "outputs": [],
   "source": [
    "# Train Decision Tree Model\n",
    "dt_model = DecisionTreeClassifier()\n",
    "dt_model.fit(X_train, y_train)\n",
    "y_pred_dt = dt_model.predict(X_test)"
   ]
  },
  {
   "cell_type": "code",
   "execution_count": 23,
   "metadata": {},
   "outputs": [],
   "source": [
    "# Train Random Forest Model\n",
    "rf_model = RandomForestClassifier(n_estimators=100)\n",
    "rf_model.fit(X_train, y_train)\n",
    "y_pred_rf = rf_model.predict(X_test)"
   ]
  },
  {
   "cell_type": "code",
   "execution_count": 24,
   "metadata": {},
   "outputs": [
    {
     "name": "stdout",
     "output_type": "stream",
     "text": [
      "Decision Tree Performance:\n",
      "Accuracy: 0.49875\n",
      "Classification Report:\n",
      "               precision    recall  f1-score   support\n",
      "\n",
      "           0       0.36      0.30      0.33       123\n",
      "           1       0.66      0.71      0.68        86\n",
      "           2       0.81      0.83      0.82       112\n",
      "           3       0.66      0.57      0.61       101\n",
      "           4       0.33      0.34      0.33       104\n",
      "           5       0.31      0.34      0.33        90\n",
      "           6       0.43      0.46      0.44        91\n",
      "           7       0.42      0.45      0.44        93\n",
      "\n",
      "    accuracy                           0.50       800\n",
      "   macro avg       0.50      0.50      0.50       800\n",
      "weighted avg       0.50      0.50      0.50       800\n",
      "\n",
      "Confusion Matrix:\n",
      " [[37  5  9 11 19 16 16 10]\n",
      " [ 4 61  0  0  6  2  2 11]\n",
      " [ 0  1 93  2  7  3  2  4]\n",
      " [ 9  0  7 58 13 11  2  1]\n",
      " [26  3  4  2 35 18  8  8]\n",
      " [11  2  1 10 12 31 14  9]\n",
      " [ 8  4  1  4  9  8 42 15]\n",
      " [ 7 17  0  1  4 10 12 42]]\n",
      "--------------------------------------------------\n",
      "Random Forest Performance:\n",
      "Accuracy: 0.7725\n",
      "Classification Report:\n",
      "               precision    recall  f1-score   support\n",
      "\n",
      "           0       0.77      0.58      0.66       123\n",
      "           1       0.81      0.88      0.84        86\n",
      "           2       0.94      1.00      0.97       112\n",
      "           3       0.92      0.89      0.90       101\n",
      "           4       0.68      0.76      0.72       104\n",
      "           5       0.71      0.79      0.75        90\n",
      "           6       0.72      0.80      0.76        91\n",
      "           7       0.58      0.49      0.53        93\n",
      "\n",
      "    accuracy                           0.77       800\n",
      "   macro avg       0.77      0.77      0.77       800\n",
      "weighted avg       0.77      0.77      0.77       800\n",
      "\n",
      "Confusion Matrix:\n",
      " [[ 71   1   5   2  20  11   5   8]\n",
      " [  0  76   0   0   0   0   0  10]\n",
      " [  0   0 112   0   0   0   0   0]\n",
      " [  4   0   2  90   3   1   0   1]\n",
      " [ 10   1   0   3  79   6   3   2]\n",
      " [  1   0   0   3   5  71   7   3]\n",
      " [  2   1   0   0   5   1  73   9]\n",
      " [  4  15   0   0   4  10  14  46]]\n",
      "--------------------------------------------------\n"
     ]
    }
   ],
   "source": [
    "# Evaluate models\n",
    "def evaluate_model(model_name, y_true, y_pred):\n",
    "    print(f\"{model_name} Performance:\")\n",
    "    print(\"Accuracy:\", accuracy_score(y_true, y_pred))\n",
    "    print(\"Classification Report:\\n\", classification_report(y_true, y_pred))\n",
    "    print(\"Confusion Matrix:\\n\", confusion_matrix(y_true, y_pred))\n",
    "    print(\"-\" * 50)\n",
    "\n",
    "evaluate_model(\"Decision Tree\", y_test, y_pred_dt)\n",
    "evaluate_model(\"Random Forest\", y_test, y_pred_rf)"
   ]
  },
  {
   "cell_type": "code",
   "execution_count": 25,
   "metadata": {},
   "outputs": [
    {
     "name": "stdout",
     "output_type": "stream",
     "text": [
      "Decision Tree Accuracy: 0.49875\n",
      "Random Forest Accuracy: 0.7725\n"
     ]
    }
   ],
   "source": [
    "\n",
    "# Comparison of model performances\n",
    "accuracy_dt = accuracy_score(y_test, y_pred_dt)\n",
    "accuracy_rf = accuracy_score(y_test, y_pred_rf)\n",
    "\n",
    "print(\"Decision Tree Accuracy:\", accuracy_dt)\n",
    "print(\"Random Forest Accuracy:\", accuracy_rf)\n"
   ]
  },
  {
   "cell_type": "code",
   "execution_count": 26,
   "metadata": {},
   "outputs": [
    {
     "data": {
      "image/png": "[encoded data removed]",
      "text/plain": [
       "<Figure size 640x480 with 1 Axes>"
      ]
     },
     "metadata": {},
     "output_type": "display_data"
    }
   ],
   "source": [
    "# Plot comparison\n",
    "plt.bar([\"Decision Tree\", \"Random Forest\"], [accuracy_dt, accuracy_rf], color=['blue', 'green'])\n",
    "plt.ylabel(\"Accuracy\")\n",
    "plt.title(\"Model Comparison\")\n",
    "plt.show()\n"
   ]
  }
 ],
 "metadata": {
  "kernelspec": {
   "display_name": "base",
   "language": "python",
   "name": "python3"
  },
  "language_info": {
   "codemirror_mode": {
    "name": "ipython",
    "version": 3
   },
   "file_extension": ".py",
   "mimetype": "text/x-python",
   "name": "python",
   "nbconvert_exporter": "python",
   "pygments_lexer": "ipython3",
   "version": "3.12.7"
  }
 },
 "nbformat": 4,
 "nbformat_minor": 2
}
