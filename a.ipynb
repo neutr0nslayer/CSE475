{
 "cells": [
  {
   "cell_type": "code",
   "execution_count": null,
   "id": "7b8fccca",
   "metadata": {},
   "outputs": [
    {
     "name": "stdout",
     "output_type": "stream",
     "text": [
      "                                          image_path  label\n",
      "0  MURA-v1.1/train/XR_SHOULDER/patient00001/study...    1.0\n",
      "1  MURA-v1.1/train/XR_SHOULDER/patient00001/study...    1.0\n",
      "2  MURA-v1.1/train/XR_SHOULDER/patient00002/study...    1.0\n",
      "3  MURA-v1.1/train/XR_SHOULDER/patient00002/study...    1.0\n",
      "4  MURA-v1.1/train/XR_SHOULDER/patient00002/study...    1.0\n",
      "Normal (0): 21935\n",
      "Abnormal (1): 14872\n"
     ]
    }
   ],
   "source": [
    "import pandas as pd\n",
    "\n",
    "# Load the CSV file\n",
    "df = pd.read_csv('Dataset/MURA-v1.1/merged_train_image_labels.csv')  # Replace with your actual file name\n",
    "\n",
    "df['label'] = df['label'].fillna(1)\n",
    "print(df.head())# cell id: augment_minority_samples\n",
    "counts = df['path'].value_counts()\n",
    "print(\"Normal (0):\", counts.get(0, 0))\n",
    "print(\"Abnormal (1):\", counts.get(1, 0))"
   ]
  },
  {
   "cell_type": "code",
   "execution_count": 10,
   "id": "ddcf2cb0",
   "metadata": {},
   "outputs": [
    {
     "name": "stdout",
     "output_type": "stream",
     "text": [
      "                                          image_path  label\n",
      "0  MURA-v1.1/train/XR_SHOULDER/patient00001/study...    1.0\n",
      "1  MURA-v1.1/train/XR_SHOULDER/patient00001/study...    1.0\n",
      "2  MURA-v1.1/train/XR_SHOULDER/patient00002/study...    1.0\n",
      "3  MURA-v1.1/train/XR_SHOULDER/patient00002/study...    1.0\n",
      "4  MURA-v1.1/train/XR_SHOULDER/patient00002/study...    1.0\n",
      "Generated 7063 augmented samples. Saved balanced CSV to:\n",
      "  Dataset/balanced_train_image_labels.csv\n"
     ]
    }
   ],
   "source": [
    "import pandas as pd\n",
    "\n",
    "# Load the CSV file\n",
    "df = pd.read_csv('Dataset/MURA-v1.1/merged_train_image_labels.csv')  # Replace with your actual file name\n",
    "\n",
    "df['label'] = df['label'].fillna(1)\n",
    "print(df.head())# cell id: augment_minority_samples\n",
    "\n",
    "import os, random\n",
    "from PIL import Image\n",
    "from torchvision import transforms\n",
    "\n",
    "# assume df is already loaded & has columns ['image_path','label']\n",
    "# create an output folder for augmented images\n",
    "BASE_DIR = 'Dataset/'\n",
    "df['image_path'] = df['image_path'].apply(\n",
    "    lambda p: os.path.normpath(os.path.join(BASE_DIR, p.lstrip(r'\\\\/')))\n",
    ")\n",
    "\n",
    "# now continue with your existing augment code…\n",
    "aug_dir = os.path.join(BASE_DIR, 'augmented_train')\n",
    "os.makedirs(aug_dir, exist_ok=True)\n",
    "\n",
    "# define simple augment pipeline\n",
    "augment = transforms.Compose([\n",
    "    transforms.Resize((246, 246)),\n",
    "    transforms.RandomResizedCrop(224),\n",
    "    transforms.RandomHorizontalFlip(),\n",
    "    transforms.RandomApply(\n",
    "        [transforms.ColorJitter(0.4,0.4,0.4,0.1)], p=0.8\n",
    "    ),\n",
    "])\n",
    "\n",
    "# split, sample, augment exactly as before...\n",
    "df_norm = df[df.label == 0]\n",
    "df_abn  = df[df.label == 1]\n",
    "n_to_gen = len(df_norm) - len(df_abn)\n",
    "\n",
    "if n_to_gen > 0:\n",
    "    df_sample = df_abn.sample(n=n_to_gen, replace=True, random_state=42)\n",
    "    new_rows = []\n",
    "    for i, (_, row) in enumerate(df_sample.iterrows()):\n",
    "        src = row['image_path']\n",
    "        img = Image.open(src).convert('RGB')\n",
    "        img_aug = augment(img)\n",
    "        name, ext = os.path.splitext(os.path.basename(src))\n",
    "        new_name = f\"{name}_aug_{i:04d}{ext}\"\n",
    "        dst = os.path.join(aug_dir, new_name)\n",
    "        img_aug.save(dst)\n",
    "        new_rows.append({'image_path': dst, 'label': 1})\n",
    "\n",
    "    df_aug = pd.DataFrame(new_rows)\n",
    "    df_balanced = pd.concat([df, df_aug], ignore_index=True).sample(\n",
    "        frac=1, random_state=42\n",
    "    )\n",
    "    out_csv = os.path.join(BASE_DIR, 'balanced_train_image_labels.csv')\n",
    "    df_balanced.to_csv(out_csv, index=False)\n",
    "    print(f\"Generated {len(df_aug)} augmented samples. Saved balanced CSV to:\\n  {out_csv}\")\n",
    "else:\n",
    "    print(\"Already balanced or minority ≥ majority.\")"
   ]
  },
  {
   "cell_type": "code",
   "execution_count": 13,
   "id": "6c789ef8",
   "metadata": {},
   "outputs": [
    {
     "name": "stdout",
     "output_type": "stream",
     "text": [
      "                                          image_path  label\n",
      "0  Dataset\\MURA-v1.1\\train\\XR_FOREARM\\patient0937...    0.0\n",
      "1        Dataset/augmented_train\\image3_aug_5774.png    1.0\n",
      "2  Dataset\\MURA-v1.1\\train\\XR_FOREARM\\patient0953...    0.0\n",
      "3  Dataset\\MURA-v1.1\\train\\XR_FINGER\\patient04218...    0.0\n",
      "4  Dataset\\MURA-v1.1\\train\\XR_FINGER\\patient04177...    0.0\n",
      "Normal (0): 21935\n",
      "Abnormal (1): 21935\n"
     ]
    }
   ],
   "source": [
    "import pandas as pd\n",
    "\n",
    "# Load the CSV file\n",
    "df = pd.read_csv('Dataset/balanced_train_image_labels.csv')  # Replace with your actual file name\n",
    "\n",
    "df['label'] = df['label'].fillna(1)\n",
    "print(df.head())# cell id: augment_minority_samples\n",
    "counts = df['label'].value_counts()\n",
    "print(\"Normal (0):\", counts.get(0, 0))\n",
    "print(\"Abnormal (1):\", counts.get(1, 0))"
   ]
  }
 ],
 "metadata": {
  "kernelspec": {
   "display_name": ".venv",
   "language": "python",
   "name": "python3"
  },
  "language_info": {
   "codemirror_mode": {
    "name": "ipython",
    "version": 3
   },
   "file_extension": ".py",
   "mimetype": "text/x-python",
   "name": "python",
   "nbconvert_exporter": "python",
   "pygments_lexer": "ipython3",
   "version": "3.12.3"
  }
 },
 "nbformat": 4,
 "nbformat_minor": 5
}
